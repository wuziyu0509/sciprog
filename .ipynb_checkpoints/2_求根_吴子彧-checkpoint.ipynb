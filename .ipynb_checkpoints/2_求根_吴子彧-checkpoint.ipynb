{
 "cells": [
  {
   "cell_type": "markdown",
   "id": "401377e1",
   "metadata": {},
   "source": [
    "# 第二次作业求根问题"
   ]
  },
  {
   "cell_type": "markdown",
   "id": "dc862eba",
   "metadata": {},
   "source": [
    "吴子彧 37720222205090"
   ]
  },
  {
   "cell_type": "markdown",
   "id": "a4bbda2f",
   "metadata": {},
   "source": [
    "## 作业要求\n",
    "* 补充梯度下降法和牛顿迭代法的介绍，以及基本原理\n",
    "* 分别用二分法、梯度下降法和牛顿迭代法计算2023的十次方根。也可构造自己的算法。\n",
    "* 比较三种算法的收敛速度。"
   ]
  },
  {
   "cell_type": "markdown",
   "id": "7f0793f0",
   "metadata": {},
   "source": [
    "## 梯度下降法"
   ]
  },
  {
   "cell_type": "markdown",
   "id": "85fd4e7d",
   "metadata": {},
   "source": [
    "### 介绍\n",
    "在数学中，梯度下降（通常也称为最速下降）是一种一阶迭代优化算法，用于寻找可微函数的局部最小值。 思路是在函数当前点的梯度（或近似梯度）的反方向重复走几步，因为这是最速下降的方向。 相反，沿梯度方向步进将导致该函数的局部xxx值； 这个过程被称为梯度上升。\n",
    "\n",
    "梯度下降法一般归因于奥古斯丁-路易斯柯西，他于1847年首先提出它。雅克阿达玛在1907年独立提出了类似的方法。它对非线性优化问题的收敛性质首先由Haskell Curry于1944年研究，用该方法 在接下来的几十年中得到越来越多的研究和使用。"
   ]
  },
  {
   "cell_type": "markdown",
   "id": "39e3f887",
   "metadata": {},
   "source": [
    "### 基本原理\n",
    "梯度下降方法基于以下的观察：如果实值函数${F(\\vec{x})}$在点${\\vec{a}}$可微且有定义，那么函数${F(\\vec{x})}$在${\\vec{a}}$点沿着梯度相反的方向${-\\nabla{F(\\vec{a})}}$下降最多。\n",
    "因而，如果\n",
    "$${\\mathbf  {b}}={\\mathbf  {a}}-\\gamma \\nabla F({\\mathbf  {a}})$$\n",
    "对于一个足够小数值${\\gamma>0}$时成立，那么${F({\\mathbf  {a}})\\geq F({\\mathbf  {b}})}$。  \n",
    "考虑到这一点，我们可以从函数F的局部极小值的初始估计$x_0$出发，并考虑如下序列${\\mathbf  {x}}_{0},{\\mathbf  {x}}_{1},{\\mathbf  {x}}_{2},\\dots $,使得\n",
    "$$\\mathbf{x}_{n+1}=\\mathbf{x}_n-\\gamma_n \\nabla F(\\mathbf{x}_n),\\ n \\ge 0。$$\n",
    "因此可得到$F({\\mathbf  {x}}_{0})\\geq F({\\mathbf  {x}}_{1})\\geq F({\\mathbf  {x}}_{2})\\geq \\cdots $,\n",
    "如果顺利的话序列$({\\mathbf  {x}}_{n})$收敛到期望的局部极小值。注意每次迭代步长$\\gamma$可以改变。"
   ]
  },
  {
   "cell_type": "markdown",
   "id": "62bc2dc8",
   "metadata": {},
   "source": [
    "## 牛顿迭代法"
   ]
  },
  {
   "cell_type": "markdown",
   "id": "e0543b3a",
   "metadata": {},
   "source": [
    "### 介绍\n",
    "牛顿法最初由艾萨克·牛顿在《流数法》（Method of Fluxions，1671年完成，在牛顿去世后于1736年公开发表）中提出。约瑟夫·鲍易也曾于1690年在Analysis Aequationum中提出此方法。"
   ]
  },
  {
   "cell_type": "markdown",
   "id": "8d43a980",
   "metadata": {},
   "source": [
    "### 基本原理\n",
    "首先，选择一个接近函数$f(x)$零点的$x_0$，计算相应的$f(x_0)$和切线斜率$f'(x_0)$（这里\n",
    "$f'$表示函数$f$的导数）。然后我们计算穿过点$(x_{0},f(x_{0}))$并且斜率为$f'(x_0)$的直线和$x$轴的交点的$x$坐标，也就是求如下方程的解：\n",
    "$${\\displaystyle 0=(x-x_{0})\\cdot f'(x_{0})+f(x_{0})}$$\n",
    "我们将新求得的点的x坐标命名为$x_1$，通常$x_1$会比$x_{0}$更接近方程$f(x)=0$的解。因此我们现在可以利用$x_1$开始下一轮迭代。迭代公式可化简为如下所示：\n",
    "$$x_{{n+1}}=x_{n}-{\\frac  {f(x_{n})}{f'(x_{n})}}$$  \n",
    "已有证明牛顿迭代法的二次收敛必须满足以下条件：\n",
    "$${\\displaystyle f'(x)\\neq 0};$$  \n",
    "对于所有${\\displaystyle x\\in I}$，其中$I$为区间$[α − r, α + r]$，且$x_{0}$在区间其中$I$内，即${\\displaystyle r\\geqslant \\left|a-x_{0}\\right|}$的;\n",
    "对于所有${\\displaystyle x\\in I}$，$f''(x)$是连续的;$x_{0}$足够接近根$\\alpha$。  \n",
    "然而当$f(x) = 0$在${\\displaystyle x=a}$处有m重根时，这时牛顿法会降为线性收敛，虽然使用牛顿法也可以继续算下去，但收敛速度会减慢。"
   ]
  },
  {
   "cell_type": "markdown",
   "id": "8fa51b97",
   "metadata": {},
   "source": [
    "## 求解$\\sqrt[10]{2023}$"
   ]
  },
  {
   "cell_type": "markdown",
   "id": "66d160e9",
   "metadata": {},
   "source": [
    "令$x = \\sqrt[10]{2023}$，问题即转化求解$f(x) = x^{10} -2023$的零点"
   ]
  },
  {
   "cell_type": "markdown",
   "id": "f54ff496",
   "metadata": {},
   "source": [
    "### 二分法"
   ]
  },
  {
   "cell_type": "code",
   "execution_count": null,
   "id": "72efa44c",
   "metadata": {},
   "outputs": [],
   "source": []
  }
 ],
 "metadata": {
  "kernelspec": {
   "display_name": "Python 3 (ipykernel)",
   "language": "python",
   "name": "python3"
  },
  "language_info": {
   "codemirror_mode": {
    "name": "ipython",
    "version": 3
   },
   "file_extension": ".py",
   "mimetype": "text/x-python",
   "name": "python",
   "nbconvert_exporter": "python",
   "pygments_lexer": "ipython3",
   "version": "3.11.4"
  }
 },
 "nbformat": 4,
 "nbformat_minor": 5
}
