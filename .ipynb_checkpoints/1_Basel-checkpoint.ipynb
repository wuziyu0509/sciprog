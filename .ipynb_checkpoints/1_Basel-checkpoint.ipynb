{
 "cells": [
  {
   "cell_type": "markdown",
   "id": "5f480564",
   "metadata": {},
   "source": [
    "# 第一次作业 Basel 问题"
   ]
  },
  {
   "cell_type": "markdown",
   "id": "88cb4c81",
   "metadata": {},
   "source": [
    "张勇"
   ]
  },
  {
   "cell_type": "markdown",
   "id": "f14758bb",
   "metadata": {},
   "source": [
    "## 作业要求\n",
    "\n",
    "- [ x] 安装 anconda\n",
    "\n",
    "- [ x] 熟悉 Jupyter notebook 的使用\n",
    "\n",
    "- [ x] 简单描述 Basel problem.（文字和 Latex 公式）\n",
    "\n",
    "- [ x] 数值验证 basel problem, 讨论误差和级数和项数之间的关系。\n"
   ]
  },
  {
   "cell_type": "markdown",
   "id": "1e29945a",
   "metadata": {},
   "source": [
    "## 背景及简单描述\n",
    "\n",
    "巴塞尔问题是一个著名的数论问题，这个问题首先由皮耶特罗·门戈利在 1644 年提出，由莱昂哈德·欧拉在 1735 年解决。由于这个问题难倒了以前许多的数学家，年仅二十八岁的欧拉因此一举成名。欧拉把这个问题作了一番推广，他的想法后来被黎曼在 1859 年的论文《论小于给定大数的素数个数》（On the Number of Primes Less Than a Given Magnitude）中所采用，论文中定义了黎曼 $\\zeta$ 函数，并证明了它的一些基本的性质。这个问题是以瑞士的第三大城市巴塞尔命名的，它是欧拉和伯努利家族的家乡。\n",
    "\n",
    "这个问题是精确计算所有平方数的倒数的和，也就是以下级数的和：\n",
    "\n",
    "$$\\\n",
    "\\sum_{n=1}^{\\infty} \\frac{1}{n^2}=\n",
    "\\lim_{{n \\to \\infty}} \\left(1 + \\frac{1}{2^2} + \\frac{1}{3^2} + \\frac{1}{4^2} + \\ldots + \\frac{1}{n^2}\\right) = \\frac{\\pi^2}{6} \\tag{1} \n",
    "$$\n",
    "\n",
    "这个级数的和大约等于1.644934。巴塞尔问题是寻找这个数的准确值，并证明它是正确的。欧拉发现准确值是 $\\pi^2/6$，并在 1735 年公布；彼时他给出了一个错误的证明，真正严密的证明在1741年给出。\n",
    "\n",
    "欧拉最初推导 $\\pi^2/6$ 的方法是聪明和新颖的。他假设有限多项式的性质对于无穷级数也是成立的。然而，欧拉没有证明此一假设，且此一假设在一般情况下也是错误的。不过他计算了级数的部分和后发现，级数确实趋近 $\\pi^2/6$，不多不少。这给了他足够的自信心，把这个结果公诸于众。\n",
    "\n",
    "欧拉的方法是从正弦函数的泰勒级数展开式开始：\n",
    "\n",
    "$$ \\sin x = x - \\frac{x^3}{3!} + \\frac{x^5}{5!} - \\frac{x^7}{7!} + \\cdots $$\n",
    "\n",
    "两边除以 $x$，得：\n",
    "\n",
    "$$\\frac{\\sin x}{x} = 1 - \\frac{x^2}{3!} + \\frac{x^4}{5!} - \\frac{x^6}{7!} + \\cdots $$\n",
    "\n",
    "现在，$\\frac{\\sin x}{x}=0 $ 的根出现在 $x = n\\cdot\\pi$，其中 $n = \\pm1, \\pm2, \\pm3, \\dots\\$。我们假设可以把这个无穷级数表示为线性因子的乘积，就像把多项式因式分解一样：\n",
    "\n",
    "$$\\begin{align}\n",
    "\\frac{\\sin x}{x} & {} =\n",
    "\\left(1 - \\frac{x}{\\pi}\\right)\\left(1 + \\frac{x}{\\pi}\\right)\\left(1 - \\frac{x}{2\\pi}\\right)\\left(1 + \\frac{x}{2\\pi}\\right)\\left(1 - \\frac{x}{3\\pi}\\right)\\left(1 + \\frac{x}{3\\pi}\\right) \\cdots \\\\\n",
    "& {} = \\left(1 - \\frac{x^2}{\\pi^2}\\right)\\left(1 - \\frac{x^2}{4\\pi^2}\\right)\\left(1 - \\frac{x^2}{9\\pi^2}\\right) \\cdots\n",
    "\\end{align}$$\n",
    "\n",
    "如果把这个乘积展开，并把所有有$x^2$的项收集在一起，我们可以看到，$\\frac{\\sin x}{x}$ 的二次项系数为：\n",
    "\n",
    "$$-\\left(\\frac{1}{\\pi^2} + \\frac{1}{4\\pi^2} + \\frac{1}{9\\pi^2} + \\cdots \\right) =\n",
    "-\\frac{1}{\\pi^2}\\sum_{n=1}^{\\infty}\\frac{1}{n^2}$$\n",
    "\n",
    "但从 $\\frac{\\sin x}{x}$ 原先的级数展开式中可以看出，$x^2$ 的系数是$-\\frac{1}{3!}= -\\frac{1}{6}$。这两个系数一定是相等的；因此，\n",
    "\n",
    "$$-\\frac{1}{6} =\n",
    "-\\frac{1}{\\pi^2}\\sum_{n=1}^{\\infty}\\frac{1}{n^2}$$\n",
    "\n",
    "等式两边乘以 $-\\pi^2\\$ 就可以得出所有平方数的倒数之和。\n",
    "\n",
    "$$\\sum_{n=1}^{\\infty}\\frac{1}{n^2} = \\frac{\\pi^2}{6}$$\n"
   ]
  },
  {
   "cell_type": "markdown",
   "id": "0ab36185",
   "metadata": {},
   "source": [
    "## 数值验证\n",
    "\n",
    "数值计算公式 (1) 左边的级数和，观察随着项数 $n$ 的增加，如何靠近公式 (1) 右边的值。 "
   ]
  },
  {
   "cell_type": "code",
   "execution_count": 60,
   "id": "a927aa73",
   "metadata": {
    "ExecuteTime": {
     "end_time": "2023-09-22T07:43:01.951078Z",
     "start_time": "2023-09-22T07:43:01.943230Z"
    }
   },
   "outputs": [],
   "source": [
    "import numpy as np\n",
    "import matplotlib.pyplot as plt\n",
    "%matplotlib inline \n",
    "# 显示，避免用命令 plt.show()\n",
    "\n",
    "n = 100\n",
    "a = 0\n",
    "s = np.zeros(n,)\n",
    "expected_value = np.pi**2/6\n",
    "for i in np.arange(1,n+1,1):\n",
    "    a = a + 1/(i**2)\n",
    "    s[i-1] = a\n",
    "    \n"
   ]
  },
  {
   "cell_type": "code",
   "execution_count": 59,
   "id": "0db46cfd",
   "metadata": {
    "ExecuteTime": {
     "end_time": "2023-09-22T07:29:18.680312Z",
     "start_time": "2023-09-22T07:29:18.447391Z"
    }
   },
   "outputs": [
    {
     "data": {
      "image/png": "[encoded data removed]",
      "text/plain": [
       "<Figure size 640x480 with 1 Axes>"
      ]
     },
     "metadata": {},
     "output_type": "display_data"
    }
   ],
   "source": [
    "plt.plot(np.arange(1,n+1,1),s,\"gs--\",markersize=6,linewidth=1,markerfacecolor=\"None\",label=\"Sum of series\")\n",
    "plt.axhline(expected_value, color='r', linestyle='-', label=r'$\\pi^2/6$')\n",
    "plt.xlabel(\"$n$\")\n",
    "plt.ylabel(\"Sum of series\")\n",
    "plt.title(\"Sum of series vs $n$\")\n",
    "plt.legend(loc=\"best\")\n",
    "plt.grid(True)"
   ]
  },
  {
   "cell_type": "markdown",
   "id": "2bee8a53",
   "metadata": {},
   "source": [
    "从上图可以看出，级数和随着项数 $n$ 增加，快速的趋向 $\\pi^2/6$."
   ]
  },
  {
   "cell_type": "markdown",
   "id": "017427fa",
   "metadata": {},
   "source": [
    "## 误差分析\n",
    "\n",
    "定义误差 $\\epsilon$ 如下：\n",
    "\n",
    "$$ \\epsilon(n) = \\sum_{i=1}^{n} \\frac{1}{i^2} - \\frac{\\pi^2}{6}$$\n",
    "\n",
    "观察误差如何随项 $n$ 数变化."
   ]
  },
  {
   "cell_type": "code",
   "execution_count": 48,
   "id": "4d196fe6",
   "metadata": {
    "ExecuteTime": {
     "end_time": "2023-09-22T07:21:08.814048Z",
     "start_time": "2023-09-22T07:21:08.808293Z"
    }
   },
   "outputs": [],
   "source": [
    "import numpy as np\n",
    "import matplotlib.pyplot as plt\n",
    "%matplotlib inline \n",
    "# 显示，避免用命令 plt.show()\n",
    "\n",
    "\n",
    "aa = 0\n",
    "ss = np.zeros(n,)\n",
    "\n",
    "for i in np.arange(1,n+1,1):\n",
    "    aa +=  1/(i**2)\n",
    "    ss[i-1] = aa-R\n",
    "    \n",
    "#print(s)\n",
    "#print(np.pi**2 / 6)"
   ]
  },
  {
   "cell_type": "code",
   "execution_count": 64,
   "id": "23636daf",
   "metadata": {
    "ExecuteTime": {
     "end_time": "2023-09-22T07:44:53.173527Z",
     "start_time": "2023-09-22T07:44:52.974878Z"
    }
   },
   "outputs": [
    {
     "data": {
      "image/png": "[encoded data removed]",
      "text/plain": [
       "<Figure size 640x480 with 1 Axes>"
      ]
     },
     "metadata": {},
     "output_type": "display_data"
    }
   ],
   "source": [
    "plt.plot(np.arange(1,n+1,1),ss,\"gs--\",markersize=6,linewidth=1,markerfacecolor=\"None\",label=\"Left\")\n",
    "plt.axhline(0, color='r', linestyle='-', label=\"Zero\")\n",
    "plt.xlabel(\"$n$\")\n",
    "plt.ylabel(\"$\\epsilon$\")\n",
    "plt.title(\"Error vs n\")\n",
    "#plt.legend(loc=\"best\")\n",
    "plt.grid(True)"
   ]
  },
  {
   "cell_type": "markdown",
   "id": "312b0ee9",
   "metadata": {},
   "source": [
    "从上图可以看出，误差随项数 $n$ 快速趋向于 $0$."
   ]
  },
  {
   "cell_type": "markdown",
   "id": "973beda4",
   "metadata": {},
   "source": [
    "## 结论\n",
    "\n",
    "通过数值计算，我们验证了 Basel 公式 (1)."
   ]
  },
  {
   "cell_type": "markdown",
   "id": "a8c434d6",
   "metadata": {},
   "source": [
    "## 参考资料\n",
    "\n",
    "\n",
    "[1]菜鸟编程 python 教程 https://www.runoob.com/python/python-tutorial.html <br />\n",
    "\n",
    "[2] LaTeX 数学符号大全 https://blog.csdn.net/LCCFlccf/article/details/89643585<br />\n",
    "\n",
    "[3]百度百科-巴塞尔问题 https://baike.baidu.com/item/%E5%B7%B4%E5%A1%9E%E5%B0%94%E9%97%AE%E9%A2%98?fromModule=lemma_search-box\n"
   ]
  },
  {
   "cell_type": "markdown",
   "id": "0e64108c",
   "metadata": {},
   "source": [
    "## 致谢\n",
    "\n",
    "感谢某某某在巴塞尔问题方面与 latex 方面的讨论与帮助。特别鸣谢某某学长对于模板以及细节问题上的帮助。"
   ]
  },
  {
   "cell_type": "markdown",
   "id": "edfdae52",
   "metadata": {},
   "source": [
    "## 附一：问题\n",
    "\n",
    "在听课过程中或完成作业的过程中遇到的问题等等。"
   ]
  },
  {
   "cell_type": "markdown",
   "id": "93c0025a",
   "metadata": {},
   "source": [
    "## 附二：学习笔记或心得\n",
    "\n",
    "在完成作业过程中最大的收获等等."
   ]
  }
 ],
 "metadata": {
  "hide_input": true,
  "kernelspec": {
   "display_name": "Python 3 (ipykernel)",
   "language": "python",
   "name": "python3"
  },
  "language_info": {
   "codemirror_mode": {
    "name": "ipython",
    "version": 3
   },
   "file_extension": ".py",
   "mimetype": "text/x-python",
   "name": "python",
   "nbconvert_exporter": "python",
   "pygments_lexer": "ipython3",
   "version": "3.11.4"
  },
  "varInspector": {
   "cols": {
    "lenName": 16,
    "lenType": 16,
    "lenVar": 40
   },
   "kernels_config": {
    "python": {
     "delete_cmd_postfix": "",
     "delete_cmd_prefix": "del ",
     "library": "var_list.py",
     "varRefreshCmd": "print(var_dic_list())"
    },
    "r": {
     "delete_cmd_postfix": ") ",
     "delete_cmd_prefix": "rm(",
     "library": "var_list.r",
     "varRefreshCmd": "cat(var_dic_list()) "
    }
   },
   "types_to_exclude": [
    "module",
    "function",
    "builtin_function_or_method",
    "instance",
    "_Feature"
   ],
   "window_display": false
  }
 },
 "nbformat": 4,
 "nbformat_minor": 5
}
