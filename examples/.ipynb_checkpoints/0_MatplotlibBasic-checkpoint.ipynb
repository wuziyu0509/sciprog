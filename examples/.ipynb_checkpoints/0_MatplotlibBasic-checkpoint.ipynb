{
 "cells": [
  {
   "cell_type": "markdown",
   "metadata": {
    "slideshow": {
     "slide_type": "slide"
    }
   },
   "source": [
    "# Matplotlib 库简介\n",
    "\n",
    "- [官网](http://matplotlib.org)\n",
    "\n",
    "- [莫烦简明教程](https://mofanpy.com/tutorials/data-manipulation/plt/)\n",
    "\n",
    "- Python 里最流行的画图库\n",
    "\n",
    "- 全面控制画图\n",
    "\n",
    "- 类似 Matlab 绘图语法\n",
    "\n",
    "- jupyter notebook 集成\n",
    "> %matplotlib inline"
   ]
  },
  {
   "cell_type": "markdown",
   "metadata": {},
   "source": [
    "## 导入库"
   ]
  },
  {
   "cell_type": "code",
   "execution_count": 2,
   "metadata": {
    "ExecuteTime": {
     "end_time": "2022-09-23T10:03:14.653646Z",
     "start_time": "2022-09-23T10:03:13.728304Z"
    },
    "slideshow": {
     "slide_type": "slide"
    }
   },
   "outputs": [],
   "source": [
    "import matplotlib.pyplot as plt \n",
    "%matplotlib inline \n",
    "# 显示，避免用命令 plt.show()\n",
    "import numpy as np"
   ]
  },
  {
   "cell_type": "markdown",
   "metadata": {},
   "source": [
    "## 一张典型的科技图片"
   ]
  },
  {
   "cell_type": "code",
   "execution_count": 1,
   "metadata": {
    "ExecuteTime": {
     "end_time": "2022-09-23T10:03:33.100750Z",
     "start_time": "2022-09-23T10:03:32.988749Z"
    }
   },
   "outputs": [
    {
     "ename": "NameError",
     "evalue": "name 'np' is not defined",
     "output_type": "error",
     "traceback": [
      "\u001b[1;31m---------------------------------------------------------------------------\u001b[0m",
      "\u001b[1;31mNameError\u001b[0m                                 Traceback (most recent call last)",
      "Cell \u001b[1;32mIn[1], line 3\u001b[0m\n\u001b[0;32m      1\u001b[0m \u001b[38;5;66;03m#plt.figure(figsize=(4,4),dpi=100) # 设置图像大小及分辨率\u001b[39;00m\n\u001b[1;32m----> 3\u001b[0m x \u001b[38;5;241m=\u001b[39m np\u001b[38;5;241m.\u001b[39mlinspace(\u001b[38;5;241m0\u001b[39m,\u001b[38;5;241m10\u001b[39m,\u001b[38;5;241m20\u001b[39m)\n\u001b[0;32m      4\u001b[0m y1 \u001b[38;5;241m=\u001b[39m x\u001b[38;5;241m*\u001b[39m\u001b[38;5;241m*\u001b[39m\u001b[38;5;241m2\u001b[39m\n\u001b[0;32m      5\u001b[0m y2 \u001b[38;5;241m=\u001b[39m x\u001b[38;5;241m*\u001b[39m\u001b[38;5;241m*\u001b[39m\u001b[38;5;241m1.5\u001b[39m\n",
      "\u001b[1;31mNameError\u001b[0m: name 'np' is not defined"
     ]
    }
   ],
   "source": [
    "#plt.figure(figsize=(4,4),dpi=100) # 设置图像大小及分辨率\n",
    "\n",
    "x = np.linspace(0,10,20)\n",
    "y1 = x**2\n",
    "y2 = x**1.5\n",
    "\n",
    "plt.plot(x,y1,\"gs--\",markersize=6,linewidth=1,markerfacecolor=\"None\",label=\"first\")\n",
    "plt.plot(x,y2,\"ro--\",markersize=6,linewidth=1,markerfacecolor=\"None\",label=\"second\")\n",
    "plt.xlabel(\"$x$\")\n",
    "plt.ylabel(\"$y$\")\n",
    "plt.title(\"Function Pics\")\n",
    "# plt.axis([0.5,10,0.2,100]) # plt.axis([Xmin,Xmax,Ymin,Ymax]) 定义x 轴和 y 轴的范围\n",
    "plt.legend(loc=\"best\")\n",
    "# plt.savefig(\"myplot.pdf\") # 将图片保存成 pdf 文件\n",
    "plt.grid(True)"
   ]
  },
  {
   "cell_type": "markdown",
   "metadata": {},
   "source": [
    "## 同时画多张图"
   ]
  },
  {
   "cell_type": "code",
   "execution_count": 22,
   "metadata": {
    "ExecuteTime": {
     "end_time": "2020-09-25T08:15:19.613644Z",
     "start_time": "2020-09-25T08:15:18.683068Z"
    }
   },
   "outputs": [
    {
     "data": {
      "image/png": "[encoded data removed]",
      "text/plain": [
       "<Figure size 720x288 with 2 Axes>"
      ]
     },
     "metadata": {
      "needs_background": "light"
     },
     "output_type": "display_data"
    }
   ],
   "source": [
    "plt.figure(figsize=(10,4)) # 设置图像大小\n",
    "\n",
    "plt.subplot(1,2,1)\n",
    "plt.plot(x,y1)\n",
    "plt.xlabel(\"$X$\")\n",
    "plt.ylabel(\"$Y$\")\n",
    "plt.title(\"linear axis\")\n",
    "\n",
    "\n",
    "plt.subplot(1,2,2)\n",
    "plt.loglog(x,y1)\n",
    "plt.xlabel(\"$X$\")\n",
    "plt.ylabel(\"$Y$\")\n",
    "plt.title(\"log-log axis\");"
   ]
  },
  {
   "cell_type": "code",
   "execution_count": null,
   "metadata": {},
   "outputs": [],
   "source": []
  }
 ],
 "metadata": {
  "hide_input": false,
  "kernelspec": {
   "display_name": "Python 3 (ipykernel)",
   "language": "python",
   "name": "python3"
  },
  "language_info": {
   "codemirror_mode": {
    "name": "ipython",
    "version": 3
   },
   "file_extension": ".py",
   "mimetype": "text/x-python",
   "name": "python",
   "nbconvert_exporter": "python",
   "pygments_lexer": "ipython3",
   "version": "3.11.4"
  },
  "toc": {
   "base_numbering": 1,
   "nav_menu": {},
   "number_sections": true,
   "sideBar": true,
   "skip_h1_title": false,
   "title_cell": "Table of Contents",
   "title_sidebar": "Contents",
   "toc_cell": false,
   "toc_position": {},
   "toc_section_display": true,
   "toc_window_display": false
  },
  "varInspector": {
   "cols": {
    "lenName": 16,
    "lenType": 16,
    "lenVar": 40
   },
   "kernels_config": {
    "python": {
     "delete_cmd_postfix": "",
     "delete_cmd_prefix": "del ",
     "library": "var_list.py",
     "varRefreshCmd": "print(var_dic_list())"
    },
    "r": {
     "delete_cmd_postfix": ") ",
     "delete_cmd_prefix": "rm(",
     "library": "var_list.r",
     "varRefreshCmd": "cat(var_dic_list()) "
    }
   },
   "types_to_exclude": [
    "module",
    "function",
    "builtin_function_or_method",
    "instance",
    "_Feature"
   ],
   "window_display": false
  }
 },
 "nbformat": 4,
 "nbformat_minor": 2
}
