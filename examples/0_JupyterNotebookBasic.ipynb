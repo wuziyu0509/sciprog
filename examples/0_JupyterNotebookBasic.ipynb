{
 "cells": [
  {
   "cell_type": "markdown",
   "metadata": {
    "hide_input": true,
    "slideshow": {
     "slide_type": "slide"
    }
   },
   "source": [
    "# Jupyter Notebook 使用基础"
   ]
  },
  {
   "cell_type": "markdown",
   "metadata": {
    "ExecuteTime": {
     "end_time": "2020-05-29T12:43:41.741094Z",
     "start_time": "2020-05-29T12:43:41.734097Z"
    },
    "slideshow": {
     "slide_type": "slide"
    }
   },
   "source": [
    "## 0. 基本参考\n",
    "- [Jupyter Notebook 官网](https://jupyter.org/)\n",
    "\n",
    "\n",
    "- [nbviewer](https://nbviewer.jupyter.org/): 各种门类的 Notebook,可下载。\n",
    "\n",
    "\n",
    "- [Github 上的 jupyter 项目](https://github.com/jupyter/jupyter/wiki/A-gallery-of-interesting-Jupyter-Notebooks)\n",
    "\n",
    "\n",
    "- 最最重要的资源：**搜索引擎**\n",
    "\n"
   ]
  },
  {
   "cell_type": "markdown",
   "metadata": {
    "heading_collapsed": true,
    "slideshow": {
     "slide_type": "slide"
    }
   },
   "source": [
    "## 1. 基本排版\n",
    "\n",
    "### Iris (鸢尾花) project\n",
    "\n",
    "\n",
    "四种属性：\n",
    "\n",
    "1. sepal (萼片) length in cm \n",
    "2. sepal width in cm\n",
    "3. petal (花瓣) length in cm\n",
    "4. petal width in cm\n",
    "\n",
    "三类：\n",
    " - Iris Setosa (山鸢尾)\n",
    " - Iris Versicolour (变色鸢尾)\n",
    " - Iris Virginica (维吉尼亚鸢尾)\n",
    "\n",
    "\n",
    "**表格：**\n",
    " \n",
    "|Tables   |are     |\n",
    "|:---------:|:--------:|\n",
    "|col 3    |col2|\n",
    "|col 4    |col5|\n",
    "\n",
    "\n",
    "**其它：**\n",
    "\n",
    "删除线 `~~delet~~` 显示为 ~~delet~~\n",
    "\n",
    "黑体为 **强调**\n",
    "\n",
    "斜体为 *斜体*\n",
    "\n",
    "下划线 <u>下划线</u>"
   ]
  },
  {
   "cell_type": "markdown",
   "metadata": {},
   "source": [
    "## 2. 支持 HTML 标记语言\n",
    "\n",
    "**下面的文字使用 HTML 语言写的：**\n",
    "\n",
    "<b>you</b> can <i>render</i> almost any <span style=\"color:red;\">HTML</span> code you <u>like</u>"
   ]
  },
  {
   "cell_type": "markdown",
   "metadata": {},
   "source": [
    "## 3. 支持 Latex 数学公式\n",
    "\n",
    "### References:\n",
    "- [Latex Wiki](https://zh.wikibooks.org/zh-sg/LaTeX)\n",
    "- [latex Wikibooks](https://en.wikibooks.org/wiki/LaTeX)\n",
    "- [Duke University, Department of Statistical Science](https://stat.duke.edu/resources/computing/latex)\n",
    "- [Equation Sheet](https://www.overleaf.com/latex/templates/a-quick-guide-to-latex/fghqpfgnxggz)"
   ]
  },
  {
   "cell_type": "markdown",
   "metadata": {
    "ExecuteTime": {
     "end_time": "2019-09-25T06:32:16.871724Z",
     "start_time": "2019-09-25T06:32:16.867735Z"
    }
   },
   "source": [
    "### 行内公式和行间公式：\n",
    "- 行内公式：$ \\sqrt{} $, $\\sigma$x\n",
    "- 行间公式：$$ \\sqrt{x}$$, $$\\Psi$$"
   ]
  },
  {
   "cell_type": "markdown",
   "metadata": {},
   "source": [
    "### 一些简单表达式：\n",
    "- add: $x+y$\n",
    "- Subtract: $x-y$\n",
    "- Multiply: $x*y$, or $x \\times y$\n",
    "- Divide: $x/y$, or $x\\div y$, or $\\frac{x}{y}$\n",
    "- $\\sqrt[3]{2x}$"
   ]
  },
  {
   "cell_type": "markdown",
   "metadata": {},
   "source": [
    "#### Relations\n",
    "\n",
    "- $ \\pi \\approx 3.1415926$\n",
    "- ${1 \\over 0} \\neq \\infty$\n",
    "- $ 0<x> 1$\n",
    "- $0 \\leq x\\geq 1$"
   ]
  },
  {
   "cell_type": "markdown",
   "metadata": {},
   "source": [
    "#### Fractions\n",
    "\n",
    "- $^1/_2$\n",
    "- $\\frac{1}{2x}$\n",
    "- ${3 \\over 4} $\n"
   ]
  },
  {
   "cell_type": "markdown",
   "metadata": {},
   "source": [
    "#### Sums & Products\n",
    "\n",
    "- $\\sum\\limits_{x=1}^{\\infty}{1 \\over x} = 2 $\n",
    "- $\\prod\\limits_{i=1}^{n} x_i -1 $\n"
   ]
  },
  {
   "cell_type": "markdown",
   "metadata": {},
   "source": [
    "#### Sums & Products\n",
    "\n",
    "- $\\sum\\limits_{x=1}^{\\infty}{1 \\over x} = 2 $\n",
    "- $\\prod\\limits_{i=1}^{n} x_i -1 $\n"
   ]
  },
  {
   "cell_type": "markdown",
   "metadata": {},
   "source": [
    "#### Calculus\n",
    "\n",
    "- $$\\lim\\limits_{x \\to 0^+}{1 \\over 0} = \\infty$$\n",
    "- $$ \\int\\limits_a^b 2x \\, dx $$"
   ]
  },
  {
   "cell_type": "markdown",
   "metadata": {},
   "source": [
    "#### Function definition over periods\n",
    "\n",
    "- `\\left\\{ ... \\rigth.`\n",
    "\n",
    "$$f(x) = \\left\\{\\begin{array}{ll}\n",
    "0 & \\mbox{if } x = 0 \\\\\n",
    "{1 \\over x} & \\mbox{if } x \\neq 0 \\end{array}\n",
    "\\right.$$\n"
   ]
  },
  {
   "cell_type": "markdown",
   "metadata": {},
   "source": [
    "#### Greek Alphabet\n",
    "\n",
    "|Small letter     |Capical Letter|Alervative|\n",
    "|:----------------|--------------|----------|\n",
    "|$\\alpha$ `\\alpha`|$A$ `A`     |          |\n",
    "|$\\beta$ `\\beta`  |$B$ `B`     |          |\n",
    "|$\\gamma$ `\\gamma`|$\\Gamma$ `\\Gamma`|        | \n",
    "|$\\delta$ `\\delta`|$\\Delta$ `\\Delta`|          |\n",
    "|$\\epsilon$ `\\epsilon`|$E$ `E`   |          |\n",
    "|$\\zeta$ `\\zeta`  |$Z$ `Z`      |           |\n",
    "|$\\eta$   |   |   |\n",
    "|$\\theta$   |   |   |\n",
    "|$\\zeta$   |   |   |\n",
    "|$\\kappa$   |   |   |\n",
    "|$\\lambda$   |   |   |\n",
    "|$\\mu$   |   |   |\n",
    "|$\\nu$   |   |   |\n",
    "|$\\omicron$   |   |   |\n",
    "|$\\pi$   |   |   |\n",
    "|$\\rho$   |   |   |\n",
    "|$\\sigma$   |   |   |\n",
    "|$\\tau$   |   |   |\n",
    "|$\\upsilon$   |   |   |\n",
    "|$\\pi$   |   |   |\n",
    "|$\\chi$   |   |   |\n",
    "|$\\psi$   |   |   |\n",
    "|$\\omega$   |   |   |"
   ]
  },
  {
   "cell_type": "markdown",
   "metadata": {},
   "source": [
    "## 4. 插入图片和连接\n",
    "\n",
    "### 本地图片 `<img src=\"sky.jpg\">`\n",
    "\n",
    "\n",
    "\n",
    "<img align=left width=\"50%\" height=\"50%\" src=\"sky.jpg\">\n"
   ]
  },
  {
   "cell_type": "markdown",
   "metadata": {
    "ExecuteTime": {
     "end_time": "2019-10-08T07:50:13.355566Z",
     "start_time": "2019-10-08T07:50:13.350580Z"
    }
   },
   "source": [
    "### 互联网图片\n",
    "<img align=left width=\"20%\" height=\"20%\" src=\"https://www.xmu.edu.cn/images/logo.png\">"
   ]
  },
  {
   "cell_type": "markdown",
   "metadata": {},
   "source": [
    "### 插入连接或者本地文件\n",
    "\n",
    "- 我们常用[Bing 搜索引擎](https://www.bing.com) \n",
    "\n",
    "- 我们将在后面的课程中介绍如何画[Logistic map 的分岔图](./Logi_map_bifur_L.ipynb)。"
   ]
  },
  {
   "cell_type": "markdown",
   "metadata": {},
   "source": [
    "## 5. 文档中引用 code\n",
    "\n",
    "引入如下代码：\n",
    "> `print(\"hello world!\")`\n",
    "\n",
    "或者 `print(\"hello world!\")`\n",
    "\n",
    "\n",
    "\n",
    "Python code:\n",
    "\n",
    "```python\n",
    "x = 5\n",
    "print(\"%.2f\" % x)\n",
    "```\n",
    "\n",
    "Java Script Code:\n",
    "\n",
    "```javascript\n",
    "x = 5\n",
    "alert(x)\n",
    "```"
   ]
  },
  {
   "cell_type": "markdown",
   "metadata": {},
   "source": [
    "## 6. Magic Command\n",
    "\n",
    "- run magic command in *code* cell\n",
    "- two types: line magics & cell magics\n",
    "- some useful command\n",
    "    - run\n",
    "    - cd\n",
    "    - ls\n",
    "    - pwd"
   ]
  },
  {
   "cell_type": "code",
   "execution_count": 2,
   "metadata": {
    "ExecuteTime": {
     "end_time": "2019-09-25T09:57:06.063463Z",
     "start_time": "2019-09-25T09:57:06.050498Z"
    }
   },
   "outputs": [
    {
     "data": {
      "application/json": {
       "cell": {
        "!": "OSMagics",
        "HTML": "Other",
        "SVG": "Other",
        "bash": "Other",
        "capture": "ExecutionMagics",
        "cmd": "Other",
        "debug": "ExecutionMagics",
        "file": "Other",
        "html": "DisplayMagics",
        "javascript": "DisplayMagics",
        "js": "DisplayMagics",
        "latex": "DisplayMagics",
        "markdown": "DisplayMagics",
        "perl": "Other",
        "prun": "ExecutionMagics",
        "pypy": "Other",
        "python": "Other",
        "python2": "Other",
        "python3": "Other",
        "ruby": "Other",
        "script": "ScriptMagics",
        "sh": "Other",
        "svg": "DisplayMagics",
        "sx": "OSMagics",
        "system": "OSMagics",
        "time": "ExecutionMagics",
        "timeit": "ExecutionMagics",
        "writefile": "OSMagics"
       },
       "line": {
        "alias": "OSMagics",
        "alias_magic": "BasicMagics",
        "autoawait": "AsyncMagics",
        "autocall": "AutoMagics",
        "automagic": "AutoMagics",
        "autosave": "KernelMagics",
        "bookmark": "OSMagics",
        "cd": "OSMagics",
        "clear": "KernelMagics",
        "cls": "KernelMagics",
        "colors": "BasicMagics",
        "conda": "PackagingMagics",
        "config": "ConfigMagics",
        "connect_info": "KernelMagics",
        "copy": "Other",
        "ddir": "Other",
        "debug": "ExecutionMagics",
        "dhist": "OSMagics",
        "dirs": "OSMagics",
        "doctest_mode": "BasicMagics",
        "echo": "Other",
        "ed": "Other",
        "edit": "KernelMagics",
        "env": "OSMagics",
        "gui": "BasicMagics",
        "hist": "Other",
        "history": "HistoryMagics",
        "killbgscripts": "ScriptMagics",
        "ldir": "Other",
        "less": "KernelMagics",
        "load": "CodeMagics",
        "load_ext": "ExtensionMagics",
        "loadpy": "CodeMagics",
        "logoff": "LoggingMagics",
        "logon": "LoggingMagics",
        "logstart": "LoggingMagics",
        "logstate": "LoggingMagics",
        "logstop": "LoggingMagics",
        "ls": "Other",
        "lsmagic": "BasicMagics",
        "macro": "ExecutionMagics",
        "magic": "BasicMagics",
        "matplotlib": "PylabMagics",
        "mkdir": "Other",
        "more": "KernelMagics",
        "notebook": "BasicMagics",
        "page": "BasicMagics",
        "pastebin": "CodeMagics",
        "pdb": "ExecutionMagics",
        "pdef": "NamespaceMagics",
        "pdoc": "NamespaceMagics",
        "pfile": "NamespaceMagics",
        "pinfo": "NamespaceMagics",
        "pinfo2": "NamespaceMagics",
        "pip": "PackagingMagics",
        "popd": "OSMagics",
        "pprint": "BasicMagics",
        "precision": "BasicMagics",
        "prun": "ExecutionMagics",
        "psearch": "NamespaceMagics",
        "psource": "NamespaceMagics",
        "pushd": "OSMagics",
        "pwd": "OSMagics",
        "pycat": "OSMagics",
        "pylab": "PylabMagics",
        "qtconsole": "KernelMagics",
        "quickref": "BasicMagics",
        "recall": "HistoryMagics",
        "rehashx": "OSMagics",
        "reload_ext": "ExtensionMagics",
        "ren": "Other",
        "rep": "Other",
        "rerun": "HistoryMagics",
        "reset": "NamespaceMagics",
        "reset_selective": "NamespaceMagics",
        "rmdir": "Other",
        "run": "ExecutionMagics",
        "save": "CodeMagics",
        "sc": "OSMagics",
        "set_env": "OSMagics",
        "store": "StoreMagics",
        "sx": "OSMagics",
        "system": "OSMagics",
        "tb": "ExecutionMagics",
        "time": "ExecutionMagics",
        "timeit": "ExecutionMagics",
        "unalias": "OSMagics",
        "unload_ext": "ExtensionMagics",
        "who": "NamespaceMagics",
        "who_ls": "NamespaceMagics",
        "whos": "NamespaceMagics",
        "xdel": "NamespaceMagics",
        "xmode": "BasicMagics"
       }
      },
      "text/plain": [
       "Available line magics:\n",
       "%alias  %alias_magic  %autoawait  %autocall  %automagic  %autosave  %bookmark  %cd  %clear  %cls  %colors  %conda  %config  %connect_info  %copy  %ddir  %debug  %dhist  %dirs  %doctest_mode  %echo  %ed  %edit  %env  %gui  %hist  %history  %killbgscripts  %ldir  %less  %load  %load_ext  %loadpy  %logoff  %logon  %logstart  %logstate  %logstop  %ls  %lsmagic  %macro  %magic  %matplotlib  %mkdir  %more  %notebook  %page  %pastebin  %pdb  %pdef  %pdoc  %pfile  %pinfo  %pinfo2  %pip  %popd  %pprint  %precision  %prun  %psearch  %psource  %pushd  %pwd  %pycat  %pylab  %qtconsole  %quickref  %recall  %rehashx  %reload_ext  %ren  %rep  %rerun  %reset  %reset_selective  %rmdir  %run  %save  %sc  %set_env  %store  %sx  %system  %tb  %time  %timeit  %unalias  %unload_ext  %who  %who_ls  %whos  %xdel  %xmode\n",
       "\n",
       "Available cell magics:\n",
       "%%!  %%HTML  %%SVG  %%bash  %%capture  %%cmd  %%debug  %%file  %%html  %%javascript  %%js  %%latex  %%markdown  %%perl  %%prun  %%pypy  %%python  %%python2  %%python3  %%ruby  %%script  %%sh  %%svg  %%sx  %%system  %%time  %%timeit  %%writefile\n",
       "\n",
       "Automagic is ON, % prefix IS NOT needed for line magics."
      ]
     },
     "execution_count": 2,
     "metadata": {},
     "output_type": "execute_result"
    }
   ],
   "source": [
    "%lsmagic # 显示所有 Magic Commands"
   ]
  },
  {
   "cell_type": "code",
   "execution_count": 1,
   "metadata": {
    "ExecuteTime": {
     "end_time": "2022-09-23T03:41:54.913467Z",
     "start_time": "2022-09-23T03:41:54.893489Z"
    }
   },
   "outputs": [
    {
     "data": {
      "text/plain": [
       "'C:\\\\Users\\\\yzhan\\\\OneDrive\\\\Teaching\\\\科编2022231\\\\Notes'"
      ]
     },
     "execution_count": 1,
     "metadata": {},
     "output_type": "execute_result"
    }
   ],
   "source": [
    "pwd"
   ]
  },
  {
   "cell_type": "markdown",
   "metadata": {},
   "source": [
    "%matplotlib inline 显示图像"
   ]
  },
  {
   "cell_type": "code",
   "execution_count": 4,
   "metadata": {
    "ExecuteTime": {
     "end_time": "2020-05-29T12:52:20.763072Z",
     "start_time": "2020-05-29T12:52:17.296549Z"
    }
   },
   "outputs": [
    {
     "name": "stdout",
     "output_type": "stream",
     "text": [
      "419 µs ± 53.4 µs per loop (mean ± std. dev. of 7 runs, 1000 loops each)\n"
     ]
    }
   ],
   "source": [
    "%%timeit\n",
    "square_evens = [n*n for n in range(1000)]"
   ]
  },
  {
   "cell_type": "markdown",
   "metadata": {},
   "source": [
    "## 7. 直接引用网页"
   ]
  },
  {
   "cell_type": "code",
   "execution_count": 4,
   "metadata": {
    "ExecuteTime": {
     "end_time": "2022-09-23T03:43:41.511730Z",
     "start_time": "2022-09-23T03:43:41.499732Z"
    }
   },
   "outputs": [
    {
     "data": {
      "text/html": [
       "\n",
       "        <iframe\n",
       "            width=\"900\"\n",
       "            height=\"600\"\n",
       "            src=\"https://www.xmu.edu.cn/\"\n",
       "            frameborder=\"0\"\n",
       "            allowfullscreen\n",
       "        ></iframe>\n",
       "        "
      ],
      "text/plain": [
       "<IPython.lib.display.IFrame at 0x2588d059f10>"
      ]
     },
     "execution_count": 4,
     "metadata": {},
     "output_type": "execute_result"
    }
   ],
   "source": [
    "from IPython.display import IFrame\n",
    "IFrame(\"https://www.xmu.edu.cn/\",width=900,height=600)"
   ]
  },
  {
   "cell_type": "markdown",
   "metadata": {},
   "source": [
    "## 8. 直接显示PDF文件"
   ]
  },
  {
   "cell_type": "code",
   "execution_count": 5,
   "metadata": {
    "ExecuteTime": {
     "end_time": "2022-09-23T03:43:55.671253Z",
     "start_time": "2022-09-23T03:43:55.653317Z"
    }
   },
   "outputs": [
    {
     "data": {
      "text/html": [
       "\n",
       "        <iframe\n",
       "            width=\"800\"\n",
       "            height=\"500\"\n",
       "            src=\"https://arxiv.org/pdf/1901.04245.pdf\"\n",
       "            frameborder=\"0\"\n",
       "            allowfullscreen\n",
       "        ></iframe>\n",
       "        "
      ],
      "text/plain": [
       "<IPython.lib.display.IFrame at 0x2588d072520>"
      ]
     },
     "execution_count": 5,
     "metadata": {},
     "output_type": "execute_result"
    }
   ],
   "source": [
    "IFrame(\"https://arxiv.org/pdf/1901.04245.pdf\",width=800,height=500)"
   ]
  },
  {
   "cell_type": "markdown",
   "metadata": {},
   "source": [
    "## 9. 直接引用视频"
   ]
  },
  {
   "cell_type": "markdown",
   "metadata": {},
   "source": [
    "### 网络视频"
   ]
  },
  {
   "cell_type": "code",
   "execution_count": 6,
   "metadata": {
    "ExecuteTime": {
     "end_time": "2022-09-23T03:44:28.176540Z",
     "start_time": "2022-09-23T03:44:06.874206Z"
    }
   },
   "outputs": [
    {
     "data": {
      "text/html": [
       "\n",
       "        <iframe\n",
       "            width=\"600\"\n",
       "            height=\"400\"\n",
       "            src=\"https://www.youtube.com/embed/TlysTnxF_6c\"\n",
       "            frameborder=\"0\"\n",
       "            allowfullscreen\n",
       "        ></iframe>\n",
       "        "
      ],
      "text/plain": [
       "<IPython.lib.display.YouTubeVideo at 0x2588d072bb0>"
      ]
     },
     "execution_count": 6,
     "metadata": {},
     "output_type": "execute_result"
    }
   ],
   "source": [
    "from IPython.display import YouTubeVideo\n",
    "YouTubeVideo('TlysTnxF_6c', width=600, height=400)"
   ]
  },
  {
   "cell_type": "markdown",
   "metadata": {},
   "source": [
    "### 本地视频"
   ]
  },
  {
   "cell_type": "markdown",
   "metadata": {},
   "source": [
    "<video controls src=\"Solar.mp4\" width=50%, height=50% />"
   ]
  },
  {
   "cell_type": "code",
   "execution_count": null,
   "metadata": {},
   "outputs": [],
   "source": []
  }
 ],
 "metadata": {
  "celltoolbar": "原始单元格格式",
  "hide_input": false,
  "kernelspec": {
   "display_name": "Python 3 (ipykernel)",
   "language": "python",
   "name": "python3"
  },
  "language_info": {
   "codemirror_mode": {
    "name": "ipython",
    "version": 3
   },
   "file_extension": ".py",
   "mimetype": "text/x-python",
   "name": "python",
   "nbconvert_exporter": "python",
   "pygments_lexer": "ipython3",
   "version": "3.11.4"
  },
  "toc": {
   "base_numbering": 1,
   "nav_menu": {},
   "number_sections": false,
   "sideBar": true,
   "skip_h1_title": true,
   "title_cell": "Table of Contents",
   "title_sidebar": "Contents",
   "toc_cell": false,
   "toc_position": {},
   "toc_section_display": true,
   "toc_window_display": false
  },
  "varInspector": {
   "cols": {
    "lenName": 16,
    "lenType": 16,
    "lenVar": 40
   },
   "kernels_config": {
    "python": {
     "delete_cmd_postfix": "",
     "delete_cmd_prefix": "del ",
     "library": "var_list.py",
     "varRefreshCmd": "print(var_dic_list())"
    },
    "r": {
     "delete_cmd_postfix": ") ",
     "delete_cmd_prefix": "rm(",
     "library": "var_list.r",
     "varRefreshCmd": "cat(var_dic_list()) "
    }
   },
   "types_to_exclude": [
    "module",
    "function",
    "builtin_function_or_method",
    "instance",
    "_Feature"
   ],
   "window_display": false
  }
 },
 "nbformat": 4,
 "nbformat_minor": 2
}
